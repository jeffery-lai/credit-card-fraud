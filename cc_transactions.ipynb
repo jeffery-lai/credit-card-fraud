{
 "cells": [
  {
   "cell_type": "code",
   "execution_count": 3,
   "id": "71629dd9",
   "metadata": {},
   "outputs": [],
   "source": [
    "import pandas as pd\n",
    "import numpy as np\n",
    "import seaborn as sns\n",
    "from matplotlib import pyplot as plt"
   ]
  },
  {
   "cell_type": "code",
   "execution_count": null,
   "id": "dc967a6e",
   "metadata": {},
   "outputs": [],
   "source": [
    "card_transactions = pd.read_csv(\"data/fraudTrain.csv\")"
   ]
  },
  {
   "cell_type": "code",
   "execution_count": null,
   "id": "f6af172f",
   "metadata": {},
   "outputs": [],
   "source": [
    "pd.set_option('display.max_columns', None)"
   ]
  },
  {
   "cell_type": "code",
   "execution_count": null,
   "id": "9974f476",
   "metadata": {
    "scrolled": true
   },
   "outputs": [],
   "source": [
    "card_transactions.head()"
   ]
  },
  {
   "cell_type": "code",
   "execution_count": 10,
   "id": "d7ab6c38",
   "metadata": {},
   "outputs": [],
   "source": [
    "df = pd.read_csv(\"data/fraudTest.csv\")"
   ]
  },
  {
   "cell_type": "code",
   "execution_count": 11,
   "id": "0978ec0e",
   "metadata": {},
   "outputs": [],
   "source": [
    "df = df.sample(frac = 0.662)"
   ]
  },
  {
   "cell_type": "code",
   "execution_count": 12,
   "id": "fe4f9df6",
   "metadata": {},
   "outputs": [],
   "source": [
    "df.to_csv('outTest.csv', index=False)"
   ]
  },
  {
   "cell_type": "markdown",
   "id": "78dcf088",
   "metadata": {},
   "source": [
    "# 1. Dataset"
   ]
  },
  {
   "cell_type": "markdown",
   "id": "75d4462c",
   "metadata": {},
   "source": [
    "## EDA"
   ]
  },
  {
   "cell_type": "markdown",
   "id": "dde9b15a",
   "metadata": {},
   "source": [
    "###### Initial Insights"
   ]
  },
  {
   "cell_type": "code",
   "execution_count": null,
   "id": "e4fddf59",
   "metadata": {},
   "outputs": [],
   "source": [
    "card_transactions.dtypes"
   ]
  },
  {
   "cell_type": "code",
   "execution_count": null,
   "id": "b80326b8",
   "metadata": {
    "scrolled": true
   },
   "outputs": [],
   "source": [
    "corr = card_transactions.corr()\n",
    "sns.heatmap(corr)"
   ]
  },
  {
   "cell_type": "markdown",
   "id": "76972a54",
   "metadata": {},
   "source": [
    "There does not seem to be much correlation between any numerical column and fraud, so we do not know if there is any feature that is important right away."
   ]
  },
  {
   "cell_type": "markdown",
   "id": "bdbacf5d",
   "metadata": {},
   "source": [
    "###### Drop columns"
   ]
  },
  {
   "cell_type": "markdown",
   "id": "91d2ddfc",
   "metadata": {},
   "source": [
    "The 'street' column is categorical and is perfectly related to the credit card number since the same billing address is attached to the same card, so we can drop the 'street' column."
   ]
  },
  {
   "cell_type": "code",
   "execution_count": null,
   "id": "6aa70335",
   "metadata": {},
   "outputs": [],
   "source": [
    "card_transactions.value_counts('cc_num')"
   ]
  },
  {
   "cell_type": "code",
   "execution_count": null,
   "id": "830807b2",
   "metadata": {},
   "outputs": [],
   "source": [
    "card_transactions.value_counts('street')"
   ]
  },
  {
   "cell_type": "markdown",
   "id": "c8d269c5",
   "metadata": {},
   "source": [
    "The 'first' and 'last' name columns remain the same for every card and should not provide new useful information in theory, so we can drop them."
   ]
  },
  {
   "cell_type": "code",
   "execution_count": null,
   "id": "02e56aac",
   "metadata": {},
   "outputs": [],
   "source": [
    "card_transactions[card_transactions['cc_num'] == 6538441737335434]['first'].value_counts()"
   ]
  },
  {
   "cell_type": "code",
   "execution_count": null,
   "id": "79437aa2",
   "metadata": {},
   "outputs": [],
   "source": [
    "card_transactions[card_transactions['cc_num'] == 6538441737335434]['last'].value_counts()"
   ]
  },
  {
   "cell_type": "markdown",
   "id": "605d2864",
   "metadata": {},
   "source": [
    "Since 'trans_num' is unique for each transaction, it does not provide useful info so we drop this too."
   ]
  },
  {
   "cell_type": "code",
   "execution_count": null,
   "id": "5362b890",
   "metadata": {
    "scrolled": false
   },
   "outputs": [],
   "source": [
    "card_transactions['trans_num'].value_counts()"
   ]
  },
  {
   "cell_type": "code",
   "execution_count": null,
   "id": "c800957c",
   "metadata": {},
   "outputs": [],
   "source": [
    "#drop columns as stated above\n",
    "card_transactions = card_transactions.drop(['street', 'first', 'last', 'trans_num'], axis = 1)\n",
    "#drop duplicate index column\n",
    "card_transactions = card_transactions.drop('Unnamed: 0', axis = 1)"
   ]
  },
  {
   "cell_type": "markdown",
   "id": "eff08c30",
   "metadata": {},
   "source": [
    "Clean the DOB column by changing the date string to the year as a int:"
   ]
  },
  {
   "cell_type": "code",
   "execution_count": null,
   "id": "b0e82c17",
   "metadata": {},
   "outputs": [],
   "source": [
    "card_transactions['dob'] = pd.to_datetime(card_transactions['dob'])\n",
    "card_transactions['dob'] = card_transactions['dob'].dt.year\n",
    "card_transactions = card_transactions.rename(columns={'dob': 'birth_year'})"
   ]
  },
  {
   "cell_type": "markdown",
   "id": "99095067",
   "metadata": {},
   "source": [
    "This is the result of our initial cleaning of the data."
   ]
  },
  {
   "cell_type": "code",
   "execution_count": null,
   "id": "273c7f37",
   "metadata": {},
   "outputs": [],
   "source": [
    "card_transactions.head()"
   ]
  },
  {
   "cell_type": "markdown",
   "id": "e6797c82",
   "metadata": {},
   "source": [
    "###### Interesting Findings"
   ]
  },
  {
   "cell_type": "markdown",
   "id": "64bd92e1",
   "metadata": {},
   "source": [
    "Class Imbalance"
   ]
  },
  {
   "cell_type": "code",
   "execution_count": null,
   "id": "d1265534",
   "metadata": {
    "scrolled": true
   },
   "outputs": [],
   "source": [
    "f_counts = card_transactions['is_fraud'].value_counts()\n",
    "\n",
    "x = ['Not Fraud', 'Fraud']\n",
    "y = [f_counts[0], f_counts[1]]\n",
    "\n",
    "fig, ax = plt.subplots()\n",
    "plt.title('Real vs Fraud transactions in data set');\n",
    "ax.bar(x, y)\n",
    "\n",
    "plt.show()"
   ]
  },
  {
   "cell_type": "markdown",
   "id": "1c4d07ca",
   "metadata": {},
   "source": [
    "Lets analyze the distributions of each category between fraud and non fraud instances to see which factors may be significant"
   ]
  },
  {
   "cell_type": "code",
   "execution_count": null,
   "id": "0ff1963e",
   "metadata": {
    "scrolled": false
   },
   "outputs": [],
   "source": [
    "fraud = card_transactions[card_transactions['is_fraud'] == 1]\n",
    "not_fraud = card_transactions[card_transactions['is_fraud'] == 0]\n",
    "\n",
    "sns.kdeplot(not_fraud['amt'], label='Not Fraud')\n",
    "sns.kdeplot(fraud['amt'], label='Fraud')\n",
    "plt.title('Distribution of Transaction Amounts');\n",
    "plt.legend(loc='upper right')\n",
    "plt.show()\n",
    "print(\"Not fraud mean amount: \" + str(not_fraud['amt'].mean()))\n",
    "print(\"Fraud mean amount: \" + str(fraud['amt'].mean()))\n",
    "print(\"Not fraud max amount: \" + str(not_fraud['amt'].max()))\n",
    "print(\"Fraud max amount: \" + str(fraud['amt'].max()))"
   ]
  },
  {
   "cell_type": "code",
   "execution_count": null,
   "id": "984cea7f",
   "metadata": {
    "scrolled": true
   },
   "outputs": [],
   "source": [
    "fraud_props = fraud['category'].value_counts() / len(fraud['category'])\n",
    "not_fraud_props = not_fraud['category'].value_counts() / len(not_fraud['category'])\n",
    "data = {'category': fraud_props.index,\n",
    "        'prop_fraud': fraud_props.values,\n",
    "        'prop_not_fraud': not_fraud_props.values}\n",
    "\n",
    "cat_df = pd.DataFrame(data)\n",
    "fig, ax = plt.subplots()\n",
    "cat_df.plot(kind='bar', x='category', y=['prop_not_fraud', 'prop_fraud'], ax=ax)\n",
    "plt.title('Real vs Fraud Transactions by Category');\n",
    "\n",
    "plt.show()"
   ]
  },
  {
   "cell_type": "code",
   "execution_count": null,
   "id": "ed57289d",
   "metadata": {},
   "outputs": [],
   "source": [
    "sns.kdeplot(not_fraud['long'], label='long - Not Fraud')\n",
    "sns.kdeplot(fraud['long'], label='long - Fraud')\n",
    "sns.kdeplot(not_fraud['lat'], label='lat - Not Fraud')\n",
    "sns.kdeplot(fraud['lat'], label='lat - Fraud lat')\n",
    "plt.legend(loc='upper left')\n",
    "plt.xlabel('Position')\n",
    "plt.title('Real vs Fraud Transactions by Location');\n",
    "plt.show()"
   ]
  },
  {
   "cell_type": "code",
   "execution_count": null,
   "id": "1e880068",
   "metadata": {},
   "outputs": [],
   "source": [
    "sns.kdeplot(not_fraud['merch_long'], label='long - Not Fraud')\n",
    "sns.kdeplot(fraud['merch_long'], label='long - Fraud')\n",
    "sns.kdeplot(not_fraud['merch_lat'], label='lat - Not Fraud')\n",
    "sns.kdeplot(fraud['merch_lat'], label='lat - Fraud lat')\n",
    "plt.legend(loc='upper left')\n",
    "plt.xlabel('Position')\n",
    "plt.title('Real vs Fraud Transactions by Merchant Location');\n",
    "plt.show()"
   ]
  },
  {
   "cell_type": "code",
   "execution_count": null,
   "id": "03808d64",
   "metadata": {},
   "outputs": [],
   "source": [
    "plt.figure(figsize=(8, 6))\n",
    "plt.scatter(not_fraud['birth_year'], not_fraud['city_pop'], label='Not Fraud', c='blue', s = 8)\n",
    "plt.scatter(fraud['birth_year'], fraud['city_pop'], label='Fraud', c='red', s = 10)\n",
    "\n",
    "plt.xlabel('Birth Year')\n",
    "plt.ylabel('City Population')\n",
    "plt.title('Fraudulent Transactions in City Population vs Birth Year');\n",
    "plt.legend()\n",
    "plt.show()"
   ]
  },
  {
   "cell_type": "markdown",
   "id": "7a383b35",
   "metadata": {},
   "source": [
    "# 2. Predictive Task"
   ]
  },
  {
   "cell_type": "markdown",
   "id": "1b0da404",
   "metadata": {},
   "source": [
    "Model Imports"
   ]
  },
  {
   "cell_type": "code",
   "execution_count": null,
   "id": "5a45e1f7",
   "metadata": {},
   "outputs": [],
   "source": [
    "from sklearn.pipeline import Pipeline\n",
    "from sklearn.compose import ColumnTransformer\n",
    "from sklearn.preprocessing import OneHotEncoder\n",
    "from sklearn.preprocessing import StandardScaler\n",
    "from sklearn.linear_model import LogisticRegression\n",
    "from sklearn.ensemble import RandomForestClassifier\n",
    "from sklearn.ensemble import GradientBoostingClassifier"
   ]
  },
  {
   "cell_type": "markdown",
   "id": "3bc44525",
   "metadata": {},
   "source": [
    "Evaluation Metrics Imports"
   ]
  },
  {
   "cell_type": "code",
   "execution_count": null,
   "id": "075e9999",
   "metadata": {},
   "outputs": [],
   "source": [
    "from sklearn.metrics import confusion_matrix\n",
    "from sklearn.metrics import f1_score\n",
    "from sklearn.metrics import precision_score\n",
    "from sklearn.metrics import recall_score"
   ]
  },
  {
   "cell_type": "markdown",
   "id": "cbf8fa46",
   "metadata": {},
   "source": [
    "Shuffle data with random seed so that results between different models are comparable"
   ]
  },
  {
   "cell_type": "code",
   "execution_count": null,
   "id": "77ddb88b",
   "metadata": {},
   "outputs": [],
   "source": [
    "from sklearn.utils import shuffle\n",
    "from sklearn.model_selection import train_test_split"
   ]
  },
  {
   "cell_type": "code",
   "execution_count": null,
   "id": "e78d2474",
   "metadata": {},
   "outputs": [],
   "source": [
    "cc_shuffled = shuffle(card_transactions, random_state=42)\n",
    "X_train, X_val, y_train, y_val = train_test_split(cc_shuffled.drop('is_fraud', \\\n",
    "        axis = 1), cc_shuffled['is_fraud'], test_size = 0.2, shuffle=False)"
   ]
  },
  {
   "cell_type": "markdown",
   "id": "df28617e",
   "metadata": {},
   "source": [
    "Features we are using for the baseline model:"
   ]
  },
  {
   "cell_type": "code",
   "execution_count": null,
   "id": "3438f6dd",
   "metadata": {},
   "outputs": [],
   "source": [
    "baseline_ord = ['cc_num', 'merchant', 'category', 'zip']\n",
    "baseline_quant = ['amt', 'lat', 'long', 'city_pop', 'birth_year', 'unix_time', 'merch_lat', 'merch_long']\n",
    "baseline_ct = ColumnTransformer(transformers=[('one-hot', OneHotEncoder(handle_unknown = 'ignore'), baseline_ord), ('standard', StandardScaler(), baseline_quant)])"
   ]
  },
  {
   "cell_type": "markdown",
   "id": "6db8a6c6",
   "metadata": {},
   "source": [
    "LogisticRegression"
   ]
  },
  {
   "cell_type": "code",
   "execution_count": null,
   "id": "0875ad74",
   "metadata": {},
   "outputs": [],
   "source": [
    "baseline_log_pl = Pipeline([('preprocessing', baseline_ct), ('logistic-reg', LogisticRegression(max_iter = 1000))])"
   ]
  },
  {
   "cell_type": "code",
   "execution_count": null,
   "id": "56efb7ad",
   "metadata": {},
   "outputs": [],
   "source": [
    "baseline_log_pl.fit(X_train, y_train)"
   ]
  },
  {
   "cell_type": "code",
   "execution_count": null,
   "id": "3a3b8f3b",
   "metadata": {},
   "outputs": [],
   "source": [
    "baseline_log_pred = baseline_log_pl.predict(X_val)"
   ]
  },
  {
   "cell_type": "code",
   "execution_count": null,
   "id": "357214de",
   "metadata": {},
   "outputs": [],
   "source": [
    "confusion_matrix(baseline_log_pred, y_val)"
   ]
  },
  {
   "cell_type": "code",
   "execution_count": null,
   "id": "db4b9bbf",
   "metadata": {},
   "outputs": [],
   "source": [
    "f1_score(baseline_log_pred, y_val)"
   ]
  },
  {
   "cell_type": "code",
   "execution_count": null,
   "id": "ecf36f7c",
   "metadata": {},
   "outputs": [],
   "source": [
    "precision_score(baseline_log_pred, y_val)"
   ]
  },
  {
   "cell_type": "code",
   "execution_count": null,
   "id": "c21d8dcc",
   "metadata": {},
   "outputs": [],
   "source": [
    "recall_score(baseline_log_pred, y_val)"
   ]
  },
  {
   "cell_type": "markdown",
   "id": "2455a6ac",
   "metadata": {},
   "source": [
    "RandomForestClassifier"
   ]
  },
  {
   "cell_type": "code",
   "execution_count": null,
   "id": "aabf3d1e",
   "metadata": {},
   "outputs": [],
   "source": [
    "baseline_rfc_pl = Pipeline([('preprocessing', baseline_ct), ('random-forest', RandomForestClassifier(n_estimators = 30))])"
   ]
  },
  {
   "cell_type": "code",
   "execution_count": null,
   "id": "ed49a253",
   "metadata": {},
   "outputs": [],
   "source": [
    "baseline_rfc_pl.fit(X_train, y_train)"
   ]
  },
  {
   "cell_type": "code",
   "execution_count": null,
   "id": "41a1c369",
   "metadata": {},
   "outputs": [],
   "source": [
    "baseline_rfc_pred = baseline_rfc_pl.predict(X_val)"
   ]
  },
  {
   "cell_type": "code",
   "execution_count": null,
   "id": "2b251a33",
   "metadata": {},
   "outputs": [],
   "source": [
    "confusion_matrix(baseline_rfc_pred, y_val)"
   ]
  },
  {
   "cell_type": "code",
   "execution_count": null,
   "id": "d59b6305",
   "metadata": {},
   "outputs": [],
   "source": [
    "f1_score(baseline_rfc_pred, y_val)"
   ]
  },
  {
   "cell_type": "code",
   "execution_count": null,
   "id": "7823b9b1",
   "metadata": {},
   "outputs": [],
   "source": [
    "precision_score(baseline_rfc_pred, y_val)"
   ]
  },
  {
   "cell_type": "code",
   "execution_count": null,
   "id": "bc4adf5e",
   "metadata": {},
   "outputs": [],
   "source": [
    "recall_score(baseline_rfc_pred, y_val)"
   ]
  },
  {
   "cell_type": "markdown",
   "id": "7aa26f8e",
   "metadata": {},
   "source": [
    "GradientBoostingClassifier"
   ]
  },
  {
   "cell_type": "code",
   "execution_count": null,
   "id": "f01f25e1",
   "metadata": {},
   "outputs": [],
   "source": [
    "baseline_gbc_pl = Pipeline([('preprocessing', baseline_ct), ('gradient-boosting', GradientBoostingClassifier())])"
   ]
  },
  {
   "cell_type": "code",
   "execution_count": null,
   "id": "2d65ce0f",
   "metadata": {},
   "outputs": [],
   "source": [
    "baseline_gbc_pl.fit(X_train, y_train)"
   ]
  },
  {
   "cell_type": "code",
   "execution_count": null,
   "id": "bb7bfe7e",
   "metadata": {},
   "outputs": [],
   "source": [
    "baseline_gbc_pred = baseline_gbc_pl.predict(X_val)"
   ]
  },
  {
   "cell_type": "code",
   "execution_count": null,
   "id": "7570af21",
   "metadata": {},
   "outputs": [],
   "source": [
    "confusion_matrix(baseline_gbc_pred, y_val)"
   ]
  },
  {
   "cell_type": "code",
   "execution_count": null,
   "id": "894da299",
   "metadata": {},
   "outputs": [],
   "source": [
    "f1_score(baseline_gbc_pred, y_val)"
   ]
  },
  {
   "cell_type": "code",
   "execution_count": null,
   "id": "3e8ca6ee",
   "metadata": {},
   "outputs": [],
   "source": [
    "precision_score(baseline_gbc_pred, y_val)"
   ]
  },
  {
   "cell_type": "code",
   "execution_count": null,
   "id": "fa761146",
   "metadata": {},
   "outputs": [],
   "source": [
    "recall_score(baseline_gbc_pred, y_val)"
   ]
  },
  {
   "cell_type": "markdown",
   "id": "f8307208",
   "metadata": {},
   "source": [
    "# 3. Model"
   ]
  },
  {
   "cell_type": "markdown",
   "id": "0a089cff",
   "metadata": {},
   "source": [
    "###### Create Features"
   ]
  },
  {
   "cell_type": "markdown",
   "id": "fc3bf9f6",
   "metadata": {},
   "source": [
    "Our model may be able to extract specific cyclic patterns from our data better if we split the date and time into multiple features. It would be easier to find patterns over the months of the year or through different times in the day than if time was stored as a single attribute."
   ]
  },
  {
   "cell_type": "code",
   "execution_count": null,
   "id": "7c6e0f2a",
   "metadata": {},
   "outputs": [],
   "source": [
    "card_transactions['trans_date_trans_time'] = pd.to_datetime(card_transactions['trans_date_trans_time'])\n",
    "#create a feature to see if there is a relationship between time of year and fraud\n",
    "card_transactions['month'] = card_transactions['trans_date_trans_time'].dt.month\n",
    "#create a feature to see if there is a relationship between time of day and fraud\n",
    "card_transactions['hour'] = card_transactions['trans_date_trans_time'].dt.hour"
   ]
  },
  {
   "cell_type": "markdown",
   "id": "6e5357ed",
   "metadata": {},
   "source": [
    "We can now remove 'trans_date_trans_time' since we have unix time representing the cycle of the entire 2 year period."
   ]
  },
  {
   "cell_type": "code",
   "execution_count": null,
   "id": "261de86d",
   "metadata": {},
   "outputs": [],
   "source": [
    "card_transactions = card_transactions.drop('trans_date_trans_time', axis = 1)"
   ]
  },
  {
   "cell_type": "code",
   "execution_count": null,
   "id": "f165f005",
   "metadata": {},
   "outputs": [],
   "source": [
    "fraud = card_transactions[card_transactions['is_fraud'] == 1]\n",
    "not_fraud = card_transactions[card_transactions['is_fraud'] == 0]\n",
    "\n",
    "sns.kdeplot(not_fraud['hour'], label='Not Fraud')\n",
    "sns.kdeplot(fraud['hour'], label='Fraud')\n",
    "plt.xlim(0, 25)\n",
    "plt.title('Distribution Across Hour of Day');\n",
    "plt.legend(loc='upper left')\n",
    "plt.show()"
   ]
  },
  {
   "cell_type": "code",
   "execution_count": null,
   "id": "9fab2a08",
   "metadata": {},
   "outputs": [],
   "source": [
    "sns.kdeplot(not_fraud['unix_time'], label='Not Fraud')\n",
    "sns.kdeplot(fraud['unix_time'], label='Fraud')\n",
    "plt.title('Distribution Across Time Frame');"
   ]
  },
  {
   "cell_type": "markdown",
   "id": "66c4f3fc",
   "metadata": {},
   "source": [
    "Tuning Hyperparameters"
   ]
  },
  {
   "cell_type": "code",
   "execution_count": null,
   "id": "a8f2621c",
   "metadata": {},
   "outputs": [],
   "source": [
    "from sklearn.model_selection import GridSearchCV"
   ]
  },
  {
   "cell_type": "code",
   "execution_count": null,
   "id": "876168e7",
   "metadata": {},
   "outputs": [],
   "source": [
    "card_transactions.head()"
   ]
  },
  {
   "cell_type": "code",
   "execution_count": null,
   "id": "3280cc18",
   "metadata": {},
   "outputs": [],
   "source": [
    "cc_shuffled = shuffle(card_transactions, random_state=42)\n",
    "X_train, X_val, y_train, y_val = train_test_split(cc_shuffled.drop('is_fraud', \\\n",
    "        axis = 1), cc_shuffled['is_fraud'], test_size = 0.2, shuffle=False)"
   ]
  },
  {
   "cell_type": "code",
   "execution_count": null,
   "id": "7d5faf5b",
   "metadata": {},
   "outputs": [],
   "source": [
    "ordinal = ['cc_num', 'merchant', 'category', 'city', 'state', 'zip']\n",
    "quant = ['amt', 'lat', 'long', 'city_pop', 'birth_year', 'unix_time', 'merch_lat', 'merch_long', 'month', 'hour']\n",
    "ct = ColumnTransformer(transformers=[('one-hot', OneHotEncoder(handle_unknown = 'ignore'), ordinal), ('standard', StandardScaler(), quant)])"
   ]
  },
  {
   "cell_type": "markdown",
   "id": "23e98d62",
   "metadata": {},
   "source": [
    "Finding optimal hyperparameters for RandomForestClassifier using CVGridSearch"
   ]
  },
  {
   "cell_type": "code",
   "execution_count": null,
   "id": "a69012e6",
   "metadata": {},
   "outputs": [],
   "source": [
    "rfc_pl = Pipeline([('preprocessing', ct), ('random-forest', RandomForestClassifier())])"
   ]
  },
  {
   "cell_type": "code",
   "execution_count": null,
   "id": "e19cbcba",
   "metadata": {},
   "outputs": [],
   "source": [
    "param_grid = {\n",
    "    'random-forest__max_depth': [8, 10, 15, 20],\n",
    "}\n",
    "\n",
    "grid_search = GridSearchCV(search_rfc_pl, param_grid, cv=5, scoring='f1')\n",
    "grid_search.fit(X_train, y_train)"
   ]
  },
  {
   "cell_type": "code",
   "execution_count": null,
   "id": "c43a5adf",
   "metadata": {},
   "outputs": [],
   "source": [
    "print(\"Best hyperparameters: \", grid_search.best_params_)\n",
    "print(\"Best f1 score: \", grid_search.best_score_)"
   ]
  },
  {
   "cell_type": "code",
   "execution_count": null,
   "id": "1ad9d1ae",
   "metadata": {},
   "outputs": [],
   "source": [
    "rfc_pl.fit(X_train, y_train)"
   ]
  },
  {
   "cell_type": "code",
   "execution_count": null,
   "id": "3492b994",
   "metadata": {},
   "outputs": [],
   "source": [
    "rfc_pred = rfc_pl.predict(X_val)"
   ]
  },
  {
   "cell_type": "code",
   "execution_count": null,
   "id": "a31a979a",
   "metadata": {},
   "outputs": [],
   "source": [
    "confusion_matrix(rfc_pred, y_val)"
   ]
  },
  {
   "cell_type": "code",
   "execution_count": null,
   "id": "974f5e80",
   "metadata": {},
   "outputs": [],
   "source": [
    "f1_score(rfc_pred, y_val)"
   ]
  },
  {
   "cell_type": "code",
   "execution_count": null,
   "id": "4ae15c8a",
   "metadata": {},
   "outputs": [],
   "source": [
    "precision_score(rfc_pred, y_val)"
   ]
  },
  {
   "cell_type": "code",
   "execution_count": null,
   "id": "6081daec",
   "metadata": {},
   "outputs": [],
   "source": [
    "recall_score(rfc_pred, y_val)"
   ]
  },
  {
   "cell_type": "markdown",
   "id": "b270ef98",
   "metadata": {},
   "source": [
    "Finding optimal hyperparameters for GradientBoostingClassifier using CVGridSearch"
   ]
  },
  {
   "cell_type": "code",
   "execution_count": null,
   "id": "393901e9",
   "metadata": {},
   "outputs": [],
   "source": [
    "search_gbc_pl = Pipeline([('preprocessing', ct), ('gradient-boosting', GradientBoostingClassifier())])"
   ]
  },
  {
   "cell_type": "code",
   "execution_count": null,
   "id": "824bf292",
   "metadata": {},
   "outputs": [],
   "source": [
    "param_grid = {\n",
    "    'gradient-boosting__min_samples_split': [1000, 1500, 3000],\n",
    "    'gradient-boosting__min_samples_leaf': [50, 100, 200],\n",
    "    'gradient-boosting__max_depth': [6, 8, 10]\n",
    "}\n",
    "grid_search = GridSearchCV(search_gbc_pl, param_grid, cv=5, scoring='f1')\n",
    "grid_search.fit(X_train, y_train)"
   ]
  },
  {
   "cell_type": "code",
   "execution_count": null,
   "id": "a59e8f26",
   "metadata": {},
   "outputs": [],
   "source": [
    "print(\"Best hyperparameters: \", grid_search.best_params_)\n",
    "print(\"Best f1 score: \", grid_search.best_score_)"
   ]
  },
  {
   "cell_type": "code",
   "execution_count": null,
   "id": "ecd29169",
   "metadata": {},
   "outputs": [],
   "source": [
    "gbc_pl = Pipeline([('preprocessing', ct), ('gradient-boosting', GradientBoostingClassifier(min_samples_split = 1500, min_samples_leaf = 50, max_depth = 8, max_features = 0.3, subsample = 0.8))])"
   ]
  },
  {
   "cell_type": "code",
   "execution_count": null,
   "id": "266fc2b0",
   "metadata": {},
   "outputs": [],
   "source": [
    "gbc_pl.fit(X_train, y_train)"
   ]
  },
  {
   "cell_type": "code",
   "execution_count": null,
   "id": "ed1b2ff6",
   "metadata": {},
   "outputs": [],
   "source": [
    "gbc_pred = gbc_pl.predict(X_val)"
   ]
  },
  {
   "cell_type": "code",
   "execution_count": null,
   "id": "cf17e066",
   "metadata": {},
   "outputs": [],
   "source": [
    "confusion_matrix(gbc_pred, y_val)"
   ]
  },
  {
   "cell_type": "code",
   "execution_count": null,
   "id": "f93626fc",
   "metadata": {},
   "outputs": [],
   "source": [
    "f1_score(gbc_pred, y_val)"
   ]
  },
  {
   "cell_type": "code",
   "execution_count": null,
   "id": "946be2fd",
   "metadata": {},
   "outputs": [],
   "source": [
    "precision_score(gbc_pred, y_val)"
   ]
  },
  {
   "cell_type": "code",
   "execution_count": null,
   "id": "61d3a3c0",
   "metadata": {},
   "outputs": [],
   "source": [
    "recall_score(gbc_pred, y_val)"
   ]
  },
  {
   "cell_type": "markdown",
   "id": "90d74878",
   "metadata": {},
   "source": [
    "#### Results on final test set"
   ]
  },
  {
   "cell_type": "code",
   "execution_count": null,
   "id": "9bd056ba",
   "metadata": {},
   "outputs": [],
   "source": [
    "test_transactions = pd.read_csv('data/fraudTest.csv')"
   ]
  },
  {
   "cell_type": "code",
   "execution_count": null,
   "id": "77baa012",
   "metadata": {},
   "outputs": [],
   "source": [
    "test_transactions.head()"
   ]
  },
  {
   "cell_type": "markdown",
   "id": "95dccf44",
   "metadata": {},
   "source": [
    "Clean test set"
   ]
  },
  {
   "cell_type": "code",
   "execution_count": null,
   "id": "529c9cdf",
   "metadata": {},
   "outputs": [],
   "source": [
    "test_transactions['dob'] = pd.to_datetime(test_transactions['dob'])\n",
    "test_transactions['dob'] = test_transactions['dob'].dt.year\n",
    "test_transactions = test_transactions.rename(columns={'dob': 'birth_year'})"
   ]
  },
  {
   "cell_type": "code",
   "execution_count": null,
   "id": "27c75758",
   "metadata": {},
   "outputs": [],
   "source": [
    "test_transactions['trans_date_trans_time'] = pd.to_datetime(test_transactions['trans_date_trans_time'])\n",
    "#create a feature to see if there is a relationship between time of year and fraud\n",
    "test_transactions['month'] = test_transactions['trans_date_trans_time'].dt.month\n",
    "#create a feature to see if there is a relationship between time of day and fraud\n",
    "test_transactions['hour'] = test_transactions['trans_date_trans_time'].dt.hour"
   ]
  },
  {
   "cell_type": "markdown",
   "id": "180752ab",
   "metadata": {},
   "source": [
    "Make predictions on test data"
   ]
  },
  {
   "cell_type": "code",
   "execution_count": null,
   "id": "3f1695ec",
   "metadata": {},
   "outputs": [],
   "source": [
    "X_test = test_transactions.drop('is_fraud', axis = 1)\n",
    "y_test = test_transactions['is_fraud']"
   ]
  },
  {
   "cell_type": "code",
   "execution_count": null,
   "id": "a00f4fb1",
   "metadata": {},
   "outputs": [],
   "source": [
    "final_pred = gbc_pl.predict(X_test)"
   ]
  },
  {
   "cell_type": "markdown",
   "id": "3df0d517",
   "metadata": {},
   "source": [
    "Plot confusion matrix and print evaluation metrics"
   ]
  },
  {
   "cell_type": "code",
   "execution_count": null,
   "id": "c33076bf",
   "metadata": {},
   "outputs": [],
   "source": [
    "cm = confusion_matrix(y_test, final_pred)\n",
    "\n",
    "classes = ['Not Fraud', 'Fraud']\n",
    "fig, ax = plt.subplots()\n",
    "\n",
    "im = ax.imshow(cm, interpolation='nearest', cmap=plt.cm.Reds)\n",
    "cbar = ax.figure.colorbar(im, ax=ax)\n",
    "\n",
    "ax.set(xticks=np.arange(cm.shape[1]),\n",
    "       yticks=np.arange(cm.shape[0]),\n",
    "       xticklabels=classes, yticklabels=classes,\n",
    "       title='Confusion matrix',\n",
    "       ylabel='True label',\n",
    "       xlabel='Predicted label')\n",
    "\n",
    "for i in range(cm.shape[0]):\n",
    "    for j in range(cm.shape[1]):\n",
    "        ax.text(j, i, format(cm[i, j], 'd'),\n",
    "                ha=\"center\", va=\"center\",\n",
    "                color=\"white\" if cm[i, j] > cm.max() / 2. else \"black\")\n",
    "plt.show()"
   ]
  },
  {
   "cell_type": "code",
   "execution_count": null,
   "id": "ec851399",
   "metadata": {},
   "outputs": [],
   "source": [
    "f1_score(final_pred, y_test)"
   ]
  },
  {
   "cell_type": "code",
   "execution_count": null,
   "id": "53f2bd18",
   "metadata": {},
   "outputs": [],
   "source": [
    "precision_score(final_pred, y_test)"
   ]
  },
  {
   "cell_type": "code",
   "execution_count": null,
   "id": "923077cf",
   "metadata": {},
   "outputs": [],
   "source": [
    "recall_score(final_pred, y_test)"
   ]
  },
  {
   "cell_type": "code",
   "execution_count": null,
   "id": "dc354d54",
   "metadata": {},
   "outputs": [],
   "source": []
  }
 ],
 "metadata": {
  "kernelspec": {
   "display_name": "Python 3 (ipykernel)",
   "language": "python",
   "name": "python3"
  },
  "language_info": {
   "codemirror_mode": {
    "name": "ipython",
    "version": 3
   },
   "file_extension": ".py",
   "mimetype": "text/x-python",
   "name": "python",
   "nbconvert_exporter": "python",
   "pygments_lexer": "ipython3",
   "version": "3.9.12"
  }
 },
 "nbformat": 4,
 "nbformat_minor": 5
}
